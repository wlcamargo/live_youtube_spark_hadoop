{
 "cells": [
  {
   "cell_type": "markdown",
   "id": "d7cbcacc-35fa-46a1-8951-9296dc2f0590",
   "metadata": {},
   "source": [
    "## Importação das LIBS"
   ]
  },
  {
   "cell_type": "code",
   "execution_count": 7,
   "id": "f47cf479-0c2d-4fef-b193-694c2f6667c3",
   "metadata": {},
   "outputs": [
    {
     "name": "stdout",
     "output_type": "stream",
     "text": [
      "3.4.1\n"
     ]
    }
   ],
   "source": [
    "import pyspark\n",
    "import os\n",
    "from delta import *\n",
    "from pyspark.sql import SparkSession\n",
    "from pyspark.sql.utils import AnalysisException\n",
    "import pandas as pd\n",
    "from configs import config_env_test\n",
    "from functions import functions as func\n",
    "import logging\n",
    "\n",
    "\n",
    "builder = pyspark.sql.SparkSession.builder.appName(\"LocalDelta\") \\\n",
    "    .master(\"local\") \\\n",
    "    .config(\"spark.sql.extensions\", \"io.delta.sql.DeltaSparkSessionExtension\") \\\n",
    "    .config(\"spark.sql.catalog.spark_catalog\", \"org.apache.spark.sql.delta.catalog.DeltaCatalog\")\n",
    "\n",
    "spark = configure_spark_with_delta_pip(builder).getOrCreate()\n",
    "print(spark.version)\n"
   ]
  },
  {
   "cell_type": "code",
   "execution_count": null,
   "id": "fc2ffd1d-6961-46c2-a524-c82cb04b05bf",
   "metadata": {},
   "outputs": [],
   "source": [
    "## Mapping"
   ]
  },
  {
   "cell_type": "code",
   "execution_count": 8,
   "id": "9534fdc9-3368-4dd6-ae9a-bec537f161b8",
   "metadata": {},
   "outputs": [],
   "source": [
    "prefix_layer_name_source = config_env_test.prefix_layer_name['1'] #bronze layer\n",
    "hdfs_source = config_env_test.hdfs_path['bronze']\n",
    "\n",
    "prefix_layer_name_target = config_env_test.prefix_layer_name['2'] #silver layer\n",
    "hdfs_target = config_env_test.hdfs_path['silver']"
   ]
  },
  {
   "cell_type": "code",
   "execution_count": null,
   "id": "65ec2990-7e08-41ee-a9da-5167377e03f9",
   "metadata": {},
   "outputs": [],
   "source": [
    "## Refinement silver tables"
   ]
  },
  {
   "cell_type": "code",
   "execution_count": 9,
   "id": "1c6cd275-fda2-4cce-886c-2e6f16eeda31",
   "metadata": {},
   "outputs": [],
   "source": [
    "# Configure the logging\n",
    "logging.basicConfig(level=logging.INFO, format='%(asctime)s - %(levelname)s - %(message)s')\n",
    "\n",
    "# Log the start of ingestions\n",
    "logging.info(\"Starting silver refinement...\")\n",
    "\n",
    "for key, value in config_env_test.tables_postgres_adventureworks.items():\n",
    "    table = value\n",
    "    table_name = func.convert_table_name(table) \n",
    "    \n",
    "    try:\n",
    "        df = spark.read.format(\"delta\").load(f'{hdfs_source}{prefix_layer_name_source}{table_name}')                 \n",
    "        df.write.format(\"delta\").mode(\"overwrite\").save(f'{hdfs_target}{prefix_layer_name_target}{table_name}')        \n",
    "        logging.info(f\"Table {table_name} successfully processed and saved to HDFS: {hdfs_target}{prefix_layer_name}{table_name}\")\n",
    "        \n",
    "    except Exception as e:\n",
    "        logging.error(f\"Error processing table {table}: {str(e)}\")\n",
    "\n",
    "logging.info(\"Silver refinemente completed!\")\n",
    "\n"
   ]
  }
 ],
 "metadata": {
  "kernelspec": {
   "display_name": "Python 3 (ipykernel)",
   "language": "python",
   "name": "python3"
  },
  "language_info": {
   "codemirror_mode": {
    "name": "ipython",
    "version": 3
   },
   "file_extension": ".py",
   "mimetype": "text/x-python",
   "name": "python",
   "nbconvert_exporter": "python",
   "pygments_lexer": "ipython3",
   "version": "3.11.5"
  }
 },
 "nbformat": 4,
 "nbformat_minor": 5
}
