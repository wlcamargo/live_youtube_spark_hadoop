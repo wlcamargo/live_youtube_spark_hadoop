{
 "cells": [
  {
   "cell_type": "markdown",
   "id": "d7cbcacc-35fa-46a1-8951-9296dc2f0590",
   "metadata": {},
   "source": [
    "## Importação das LIBS"
   ]
  },
  {
   "cell_type": "code",
   "execution_count": 1,
   "id": "f47cf479-0c2d-4fef-b193-694c2f6667c3",
   "metadata": {},
   "outputs": [
    {
     "ename": "ModuleNotFoundError",
     "evalue": "No module named 'configs'",
     "output_type": "error",
     "traceback": [
      "\u001b[0;31m---------------------------------------------------------------------------\u001b[0m",
      "\u001b[0;31mModuleNotFoundError\u001b[0m                       Traceback (most recent call last)",
      "Cell \u001b[0;32mIn[1], line 7\u001b[0m\n\u001b[1;32m      5\u001b[0m \u001b[38;5;28;01mfrom\u001b[39;00m \u001b[38;5;21;01mpyspark\u001b[39;00m\u001b[38;5;21;01m.\u001b[39;00m\u001b[38;5;21;01msql\u001b[39;00m\u001b[38;5;21;01m.\u001b[39;00m\u001b[38;5;21;01mutils\u001b[39;00m \u001b[38;5;28;01mimport\u001b[39;00m AnalysisException\n\u001b[1;32m      6\u001b[0m \u001b[38;5;28;01mimport\u001b[39;00m \u001b[38;5;21;01mpandas\u001b[39;00m \u001b[38;5;28;01mas\u001b[39;00m \u001b[38;5;21;01mpd\u001b[39;00m\n\u001b[0;32m----> 7\u001b[0m \u001b[38;5;28;01mfrom\u001b[39;00m \u001b[38;5;21;01mconfigs\u001b[39;00m \u001b[38;5;28;01mimport\u001b[39;00m config_env_test\n\u001b[1;32m      8\u001b[0m \u001b[38;5;28;01mfrom\u001b[39;00m \u001b[38;5;21;01mfunctions\u001b[39;00m \u001b[38;5;28;01mimport\u001b[39;00m functions \u001b[38;5;28;01mas\u001b[39;00m func\n\u001b[1;32m      9\u001b[0m \u001b[38;5;28;01mimport\u001b[39;00m \u001b[38;5;21;01mlogging\u001b[39;00m\n",
      "\u001b[0;31mModuleNotFoundError\u001b[0m: No module named 'configs'"
     ]
    }
   ],
   "source": [
    "import pyspark\n",
    "import os\n",
    "from delta import *\n",
    "from pyspark.sql import SparkSession\n",
    "from pyspark.sql.utils import AnalysisException\n",
    "import pandas as pd\n",
    "from configs import config_env_test\n",
    "from functions import functions as func\n",
    "import logging\n",
    "\n",
    "\n",
    "builder = pyspark.sql.SparkSession.builder.appName(\"LocalDelta\") \\\n",
    "    .master(\"local\") \\\n",
    "    .config(\"spark.sql.extensions\", \"io.delta.sql.DeltaSparkSessionExtension\") \\\n",
    "    .config(\"spark.sql.catalog.spark_catalog\", \"org.apache.spark.sql.delta.catalog.DeltaCatalog\")\n",
    "\n",
    "spark = configure_spark_with_delta_pip(builder).getOrCreate()\n",
    "print(spark.version)\n"
   ]
  },
  {
   "cell_type": "code",
   "execution_count": null,
   "id": "fc2ffd1d-6961-46c2-a524-c82cb04b05bf",
   "metadata": {},
   "outputs": [],
   "source": [
    "## Mapping"
   ]
  },
  {
   "cell_type": "code",
   "execution_count": null,
   "id": "9534fdc9-3368-4dd6-ae9a-bec537f161b8",
   "metadata": {},
   "outputs": [],
   "source": [
    "table_name = bronze_sales_countryregioncurrency\n",
    "\n",
    "prefix_layer_name_source = config_env_test.prefix_layer_name['1'] #bronze layer\n",
    "hdfs_source = config_env_test.hdfs_path['bronze']\n",
    "\n",
    "prefix_layer_name_target = config_env_test.prefix_layer_name['2'] #silver layer\n",
    "hdfs_target = config_env_test.hdfs_path['silver']"
   ]
  },
  {
   "cell_type": "code",
   "execution_count": null,
   "id": "65ec2990-7e08-41ee-a9da-5167377e03f9",
   "metadata": {},
   "outputs": [],
   "source": [
    "## Refinement silver tables"
   ]
  },
  {
   "cell_type": "code",
   "execution_count": null,
   "id": "1c6cd275-fda2-4cce-886c-2e6f16eeda31",
   "metadata": {},
   "outputs": [],
   "source": [
    "# Configure the logging\n",
    "logging.basicConfig(level=logging.INFO, format='%(asctime)s - %(levelname)s - %(message)s')\n",
    "\n",
    "# Log the start of ingestions\n",
    "logging.info(\"Starting silver refinement...\")\n",
    "\n",
    "\n",
    "df = spark.read.format(\"delta\").load(f'{hdfs_source}{table_name}')  \n",
    "\n",
    "print(df)\n",
    "             \n",
    "logging.info(f\"Table {table_name} successfully processed and saved to HDFS: {hdfs_target}{prefix_layer_name}{table_name}\")\n",
    "        "
   ]
  },
  {
   "cell_type": "code",
   "execution_count": null,
   "id": "60bbe917-8411-4c33-847f-c31bf1012571",
   "metadata": {},
   "outputs": [],
   "source": [
    "#df.write.format(\"delta\").mode(\"overwrite\").save(f'{hdfs_target}{prefix_layer_name_target}{table_name}')  "
   ]
  }
 ],
 "metadata": {
  "kernelspec": {
   "display_name": "Python 3 (ipykernel)",
   "language": "python",
   "name": "python3"
  },
  "language_info": {
   "codemirror_mode": {
    "name": "ipython",
    "version": 3
   },
   "file_extension": ".py",
   "mimetype": "text/x-python",
   "name": "python",
   "nbconvert_exporter": "python",
   "pygments_lexer": "ipython3",
   "version": "3.11.5"
  }
 },
 "nbformat": 4,
 "nbformat_minor": 5
}
