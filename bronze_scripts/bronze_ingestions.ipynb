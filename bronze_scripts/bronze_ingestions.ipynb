{
 "cells": [
  {
   "cell_type": "markdown",
   "id": "b324da15-066a-45a5-b734-8a5511b8e329",
   "metadata": {},
   "source": [
    "## Importação das LIBS "
   ]
  },
  {
   "cell_type": "code",
   "execution_count": 42,
   "id": "f2068145-fed3-4406-9ac6-2507e2776d12",
   "metadata": {
    "editable": true,
    "slideshow": {
     "slide_type": ""
    },
    "tags": []
   },
   "outputs": [
    {
     "name": "stdout",
     "output_type": "stream",
     "text": [
      "3.4.1\n"
     ]
    }
   ],
   "source": [
    "import pyspark\n",
    "import os\n",
    "from delta import *\n",
    "from pyspark.sql import SparkSession\n",
    "from pyspark.sql.utils import AnalysisException\n",
    "import pandas as pd\n",
    "from configs import config_env_test\n",
    "from functions import functions as func\n",
    "import logging\n",
    "\n",
    "\n",
    "builder = pyspark.sql.SparkSession.builder.appName(\"LocalDelta\") \\\n",
    "    .master(\"local\") \\\n",
    "    .config(\"spark.sql.extensions\", \"io.delta.sql.DeltaSparkSessionExtension\") \\\n",
    "    .config(\"spark.sql.catalog.spark_catalog\", \"org.apache.spark.sql.delta.catalog.DeltaCatalog\")\n",
    "\n",
    "spark = configure_spark_with_delta_pip(builder).getOrCreate()\n",
    "print(spark.version)"
   ]
  },
  {
   "cell_type": "markdown",
   "id": "596d9d55-4075-4fbe-91e2-92451b3a959e",
   "metadata": {},
   "source": [
    "## Mapping"
   ]
  },
  {
   "cell_type": "code",
   "execution_count": 43,
   "id": "d281692b-6ddc-4863-87ce-326c716f0262",
   "metadata": {},
   "outputs": [],
   "source": [
    "hdfs_source = config_env_test.hdfs_path['landing_zone']\n",
    "\n",
    "prefix_layer_name_target = config_env_test.prefix_layer_name['1'] #bronze layer\n",
    "\n",
    "hdfs_target = config_env_test.hdfs_path['bronze']"
   ]
  },
  {
   "cell_type": "markdown",
   "id": "173bc0f1-3243-4ece-9dd3-e195af6336d8",
   "metadata": {},
   "source": [
    "## Ingestion bronze tables"
   ]
  },
  {
   "cell_type": "code",
   "execution_count": 44,
   "id": "3dec6116-6070-4b88-ac59-6d55fba0e768",
   "metadata": {},
   "outputs": [],
   "source": [
    "# Configure the logging\n",
    "logging.basicConfig(level=logging.INFO, format='%(asctime)s - %(levelname)s - %(message)s')\n",
    "\n",
    "# Log the start of ingestions\n",
    "logging.info(\"Starting ingestions bronze...\")\n",
    "\n",
    "for key, value in config_env_test.tables_postgres_adventureworks.items():\n",
    "    table = value\n",
    "    table_name = func.convert_table_name(table)\n",
    "    \n",
    "    try:\n",
    "        df = spark.read.format(\"parquet\").load(f'{hdfs_source}{table_name}')                 \n",
    "        df.write.format(\"delta\").mode(\"overwrite\").save(f'{hdfs_target}{prefix_layer_name_target}{table_name}')        \n",
    "        logging.info(f\"Table {table_name} successfully processed and saved to HDFS: {hdfs_target}{prefix_layer_name}{table_name}\")\n",
    "        \n",
    "    except Exception as e:\n",
    "        logging.error(f\"Error processing table {table}: {str(e)}\")\n",
    "\n",
    "logging.info(\"Ingestions bronze completed!\")\n"
   ]
  }
 ],
 "metadata": {
  "kernelspec": {
   "display_name": "Python 3 (ipykernel)",
   "language": "python",
   "name": "python3"
  },
  "language_info": {
   "codemirror_mode": {
    "name": "ipython",
    "version": 3
   },
   "file_extension": ".py",
   "mimetype": "text/x-python",
   "name": "python",
   "nbconvert_exporter": "python",
   "pygments_lexer": "ipython3",
   "version": "3.11.5"
  }
 },
 "nbformat": 4,
 "nbformat_minor": 5
}
